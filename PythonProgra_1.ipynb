{
  "nbformat": 4,
  "nbformat_minor": 0,
  "metadata": {
    "colab": {
      "name": "PythonProgra_1.ipynb",
      "provenance": [],
      "toc_visible": true,
      "authorship_tag": "ABX9TyOKYjpvT5mYlTGH/8ZotKXG",
      "include_colab_link": true
    },
    "kernelspec": {
      "name": "python3",
      "display_name": "Python 3"
    },
    "language_info": {
      "name": "python"
    }
  },
  "cells": [
    {
      "cell_type": "markdown",
      "metadata": {
        "id": "view-in-github",
        "colab_type": "text"
      },
      "source": [
        "<a href=\"https://colab.research.google.com/github/andym2c4/python3Tuto/blob/main/PythonProgra_1.ipynb\" target=\"_parent\"><img src=\"https://colab.research.google.com/assets/colab-badge.svg\" alt=\"Open In Colab\"/></a>"
      ]
    },
    {
      "cell_type": "markdown",
      "source": [
        "# **Introduccion a Python**\n",
        "Contenido:\n",
        "1.   Operadores basicos\n",
        "2.   Sentencias\n",
        "3.   Modulos\n",
        "4.   Variables\n",
        "5.   Tipos de datos"
      ],
      "metadata": {
        "id": "YVIR_aUvJFPo"
      }
    },
    {
      "cell_type": "markdown",
      "source": [
        "# Operadores Basicos"
      ],
      "metadata": {
        "id": "N2zT5ElJJeq7"
      }
    },
    {
      "cell_type": "markdown",
      "source": [
        "## Operadores aritmeticos"
      ],
      "metadata": {
        "id": "Og_u6MkwMr9j"
      }
    },
    {
      "cell_type": "code",
      "source": [
        "#suma\n",
        "print(12.2+5.6)\n",
        "#diferencia\n",
        "print(12.5-5.6)\n",
        "#multiplicacion\n",
        "print(12.5*5.6)\n",
        "#division\n",
        "print(12.5/5.6)"
      ],
      "metadata": {
        "colab": {
          "base_uri": "https://localhost:8080/"
        },
        "id": "MmouLP2uJdxb",
        "outputId": "2c4cc2f6-cccb-4987-d50f-82d73e63493a"
      },
      "execution_count": 8,
      "outputs": [
        {
          "output_type": "stream",
          "name": "stdout",
          "text": [
            "17.799999999999997\n",
            "6.9\n",
            "70.0\n",
            "2.232142857142857\n"
          ]
        }
      ]
    },
    {
      "cell_type": "code",
      "source": [
        "#modulo\n",
        "print(12.5%5.6)\n",
        "#floor division, division con redondeo hacia cero (infinito negativo)\n",
        "print(9//4)\n",
        "#potenciacion\n",
        "print(2.3**2)"
      ],
      "metadata": {
        "colab": {
          "base_uri": "https://localhost:8080/"
        },
        "id": "BO6-I8sSJeH8",
        "outputId": "b6086942-bdb1-4b83-c99a-03f516c9a604"
      },
      "execution_count": 11,
      "outputs": [
        {
          "output_type": "stream",
          "name": "stdout",
          "text": [
            "1.3000000000000007\n",
            "2\n",
            "5.289999999999999\n"
          ]
        }
      ]
    },
    {
      "cell_type": "markdown",
      "source": [
        "## Operadores de comparacion"
      ],
      "metadata": {
        "id": "jIcgSVRxODAa"
      }
    },
    {
      "cell_type": "code",
      "execution_count": 14,
      "metadata": {
        "colab": {
          "base_uri": "https://localhost:8080/"
        },
        "id": "-oT5jnb463jp",
        "outputId": "49b2e663-385a-4344-9392-783aec37a85b"
      },
      "outputs": [
        {
          "output_type": "execute_result",
          "data": {
            "text/plain": [
              "False"
            ]
          },
          "metadata": {},
          "execution_count": 14
        }
      ],
      "source": [
        "#evaluar igualdad\n",
        "12==13"
      ]
    },
    {
      "cell_type": "code",
      "source": [
        "#evaluar diferencia\n",
        "12!=13"
      ],
      "metadata": {
        "colab": {
          "base_uri": "https://localhost:8080/"
        },
        "id": "kvs0F1MYOSk4",
        "outputId": "cae03ce8-b070-47f3-e522-5bc2349c29e2"
      },
      "execution_count": 16,
      "outputs": [
        {
          "output_type": "execute_result",
          "data": {
            "text/plain": [
              "True"
            ]
          },
          "metadata": {},
          "execution_count": 16
        }
      ]
    },
    {
      "cell_type": "code",
      "source": [
        "#operador mayor\n",
        "print(5>3)\n",
        "#operador menor\n",
        "print(5<3)\n",
        "#mayor igual\n",
        "print(5>=3)\n",
        "#menor igual\n",
        "print(5<=3)"
      ],
      "metadata": {
        "colab": {
          "base_uri": "https://localhost:8080/"
        },
        "id": "Phok32tiOXjb",
        "outputId": "bb6ca941-9de0-41c7-e389-049644494052"
      },
      "execution_count": 19,
      "outputs": [
        {
          "output_type": "stream",
          "name": "stdout",
          "text": [
            "True\n",
            "False\n",
            "True\n",
            "False\n"
          ]
        }
      ]
    },
    {
      "cell_type": "markdown",
      "source": [
        "## Asignacion de operaciones"
      ],
      "metadata": {
        "id": "hDrHCmejO20b"
      }
    },
    {
      "cell_type": "code",
      "source": [
        "# asignar valores de operandos del lado derecho al izquierdo, con \"=\"\n",
        "a=3+2\n",
        "print(a)"
      ],
      "metadata": {
        "colab": {
          "base_uri": "https://localhost:8080/"
        },
        "id": "PqOuvTJvOkBA",
        "outputId": "139ea079-35ca-47fd-f43d-390fbe9ac2d4"
      },
      "execution_count": 23,
      "outputs": [
        {
          "output_type": "stream",
          "name": "stdout",
          "text": [
            "5\n"
          ]
        }
      ]
    },
    {
      "cell_type": "code",
      "source": [
        "# c+=a\n",
        "# equivalente a: c=c+a\n",
        "c=0\n",
        "c+=a\n",
        "print(c)"
      ],
      "metadata": {
        "colab": {
          "base_uri": "https://localhost:8080/"
        },
        "id": "MKoG0lDXOzSa",
        "outputId": "90efffeb-a122-4396-a2c3-d7be4613c73a"
      },
      "execution_count": 28,
      "outputs": [
        {
          "output_type": "stream",
          "name": "stdout",
          "text": [
            "5\n"
          ]
        }
      ]
    },
    {
      "cell_type": "code",
      "source": [
        "# c-=a\n",
        "# equivalente a: c=c-a\n",
        "c=0\n",
        "c-=3\n",
        "print(c)"
      ],
      "metadata": {
        "colab": {
          "base_uri": "https://localhost:8080/"
        },
        "id": "VmHkO_8KOzA3",
        "outputId": "99967045-8628-419d-84d6-eeb9333cd97a"
      },
      "execution_count": 29,
      "outputs": [
        {
          "output_type": "stream",
          "name": "stdout",
          "text": [
            "-3\n"
          ]
        }
      ]
    },
    {
      "cell_type": "code",
      "source": [
        "# c*=a\n",
        "# equivalente a: c=c*a\n",
        "c=2\n",
        "c*=5\n",
        "print(c)"
      ],
      "metadata": {
        "colab": {
          "base_uri": "https://localhost:8080/"
        },
        "id": "cA1IhnwxOwNn",
        "outputId": "b39e3aac-4a0c-4cec-b564-82846f7e612d"
      },
      "execution_count": 31,
      "outputs": [
        {
          "output_type": "stream",
          "name": "stdout",
          "text": [
            "10\n"
          ]
        }
      ]
    },
    {
      "cell_type": "code",
      "source": [
        "# c/=a\n",
        "# equivalente a : c=c/a\n",
        "c=10\n",
        "c/=13\n",
        "print(c)"
      ],
      "metadata": {
        "colab": {
          "base_uri": "https://localhost:8080/"
        },
        "id": "OcYGDKrJQCW5",
        "outputId": "1e9e0f63-e293-48f9-9aa9-fc1b538b6328"
      },
      "execution_count": 32,
      "outputs": [
        {
          "output_type": "stream",
          "name": "stdout",
          "text": [
            "0.7692307692307693\n"
          ]
        }
      ]
    },
    {
      "cell_type": "code",
      "source": [
        "# c%=a\n",
        "# equivalente a: c=c%a\n",
        "c=15\n",
        "c%=5\n",
        "print(c)"
      ],
      "metadata": {
        "colab": {
          "base_uri": "https://localhost:8080/"
        },
        "id": "A5dPVZvVQMva",
        "outputId": "dc2f6b82-4ea3-41bb-d64f-fbbb1c05c674"
      },
      "execution_count": 34,
      "outputs": [
        {
          "output_type": "stream",
          "name": "stdout",
          "text": [
            "0\n"
          ]
        }
      ]
    },
    {
      "cell_type": "code",
      "source": [
        "# c**=a\n",
        "# equivalente a: c=c**a\n",
        "c=13\n",
        "c**=3\n",
        "print(c)"
      ],
      "metadata": {
        "colab": {
          "base_uri": "https://localhost:8080/"
        },
        "id": "W8jdam2VQhj-",
        "outputId": "d50a5d5c-d99d-40af-de06-26c19d6a18db"
      },
      "execution_count": 35,
      "outputs": [
        {
          "output_type": "stream",
          "name": "stdout",
          "text": [
            "2197\n"
          ]
        }
      ]
    },
    {
      "cell_type": "code",
      "source": [
        "# c//=a\n",
        "# equivalente a: c=c//a\n",
        "c=13\n",
        "c//=4.9999\n",
        "print(c)"
      ],
      "metadata": {
        "colab": {
          "base_uri": "https://localhost:8080/"
        },
        "id": "wQIX20PUQp8E",
        "outputId": "7000cdcd-a7e2-4f83-a11b-b24200175b3a"
      },
      "execution_count": 38,
      "outputs": [
        {
          "output_type": "stream",
          "name": "stdout",
          "text": [
            "2.0\n"
          ]
        }
      ]
    },
    {
      "cell_type": "markdown",
      "source": [
        "## Operadores BitWise o entre Bits"
      ],
      "metadata": {
        "id": "Mqn4TOGnQ2bx"
      }
    },
    {
      "cell_type": "code",
      "source": [
        "#creacion de datos enteros\n",
        "a_int=12\n",
        "b_int=15\n",
        "#creacion de datos binarios\n",
        "a=bin(a_int)\n",
        "b=bin(b_int)"
      ],
      "metadata": {
        "id": "GvlmaLCIQvaO"
      },
      "execution_count": 52,
      "outputs": []
    },
    {
      "cell_type": "code",
      "source": [
        "#visualizacion de los datos binarios\n",
        "print(a,b)"
      ],
      "metadata": {
        "colab": {
          "base_uri": "https://localhost:8080/"
        },
        "id": "Wdp-PLo6RUA-",
        "outputId": "3af453b3-8967-4b3f-9786-4b5ee63177e5"
      },
      "execution_count": 53,
      "outputs": [
        {
          "output_type": "stream",
          "name": "stdout",
          "text": [
            "0b1100 0b1111\n"
          ]
        }
      ]
    },
    {
      "cell_type": "code",
      "source": [
        "#operador AND\n",
        "bin(a_int&b_int)"
      ],
      "metadata": {
        "colab": {
          "base_uri": "https://localhost:8080/",
          "height": 35
        },
        "id": "IdV17rWtRZu4",
        "outputId": "7c11061a-d376-4ee9-fb7d-7e571c527e4b"
      },
      "execution_count": 54,
      "outputs": [
        {
          "output_type": "execute_result",
          "data": {
            "application/vnd.google.colaboratory.intrinsic+json": {
              "type": "string"
            },
            "text/plain": [
              "'0b1100'"
            ]
          },
          "metadata": {},
          "execution_count": 54
        }
      ]
    },
    {
      "cell_type": "code",
      "source": [
        "# operador OR\n",
        "bin(a_int|b_int)"
      ],
      "metadata": {
        "colab": {
          "base_uri": "https://localhost:8080/",
          "height": 35
        },
        "id": "FLqJotvNRtRO",
        "outputId": "6a85e686-06f2-4674-f625-07cf14a4129d"
      },
      "execution_count": 55,
      "outputs": [
        {
          "output_type": "execute_result",
          "data": {
            "application/vnd.google.colaboratory.intrinsic+json": {
              "type": "string"
            },
            "text/plain": [
              "'0b1111'"
            ]
          },
          "metadata": {},
          "execution_count": 55
        }
      ]
    },
    {
      "cell_type": "code",
      "source": [
        "# operador XOR\n",
        "bin(a_int^b_int)"
      ],
      "metadata": {
        "colab": {
          "base_uri": "https://localhost:8080/",
          "height": 35
        },
        "id": "BmtRi5oSThDF",
        "outputId": "1b66e3ae-c5eb-4ece-8c89-de6b8d0c6e81"
      },
      "execution_count": 56,
      "outputs": [
        {
          "output_type": "execute_result",
          "data": {
            "application/vnd.google.colaboratory.intrinsic+json": {
              "type": "string"
            },
            "text/plain": [
              "'0b11'"
            ]
          },
          "metadata": {},
          "execution_count": 56
        }
      ]
    },
    {
      "cell_type": "code",
      "source": [
        "# complemento a uno : ~\n",
        "bin(~a_int)"
      ],
      "metadata": {
        "colab": {
          "base_uri": "https://localhost:8080/",
          "height": 35
        },
        "id": "6j2VQDFMTsvz",
        "outputId": "0ae8f272-bc2a-4c07-e5a8-77e3df9ecada"
      },
      "execution_count": 58,
      "outputs": [
        {
          "output_type": "execute_result",
          "data": {
            "application/vnd.google.colaboratory.intrinsic+json": {
              "type": "string"
            },
            "text/plain": [
              "'-0b1101'"
            ]
          },
          "metadata": {},
          "execution_count": 58
        }
      ]
    },
    {
      "cell_type": "code",
      "source": [
        "# desplazamiento de bits a la izquierda\n",
        "print(bin(a_int))\n",
        "print(bin(a_int<<2))"
      ],
      "metadata": {
        "colab": {
          "base_uri": "https://localhost:8080/"
        },
        "id": "TeOzY731T04f",
        "outputId": "cbaa2e9c-9f41-4f89-b6b1-ecdd077c7671"
      },
      "execution_count": 62,
      "outputs": [
        {
          "output_type": "stream",
          "name": "stdout",
          "text": [
            "0b1100\n",
            "0b110000\n"
          ]
        }
      ]
    },
    {
      "cell_type": "code",
      "source": [
        "# desplazamiento de bits a la derecha\n",
        "print(bin(a_int))\n",
        "print(bin(a_int>>3))"
      ],
      "metadata": {
        "colab": {
          "base_uri": "https://localhost:8080/"
        },
        "id": "-bOwYd6eVbDp",
        "outputId": "bb51eca0-0646-4b9b-985c-0d778b4cc0bc"
      },
      "execution_count": 63,
      "outputs": [
        {
          "output_type": "stream",
          "name": "stdout",
          "text": [
            "0b1100\n",
            "0b1\n"
          ]
        }
      ]
    },
    {
      "cell_type": "markdown",
      "source": [
        "## Operadores Logicos"
      ],
      "metadata": {
        "id": "kEdnDmm5VtS6"
      }
    },
    {
      "cell_type": "code",
      "source": [
        "# AND logico\n",
        "True and True"
      ],
      "metadata": {
        "colab": {
          "base_uri": "https://localhost:8080/"
        },
        "id": "EHtPuZU8VliM",
        "outputId": "ab5c20ca-6df6-4daa-f65d-7ad356d060d0"
      },
      "execution_count": 64,
      "outputs": [
        {
          "output_type": "execute_result",
          "data": {
            "text/plain": [
              "True"
            ]
          },
          "metadata": {},
          "execution_count": 64
        }
      ]
    },
    {
      "cell_type": "code",
      "source": [
        "False and True"
      ],
      "metadata": {
        "colab": {
          "base_uri": "https://localhost:8080/"
        },
        "id": "9x5qMjkOV0W_",
        "outputId": "95a891f5-c3e1-45cb-f1eb-7da127e27c8a"
      },
      "execution_count": 65,
      "outputs": [
        {
          "output_type": "execute_result",
          "data": {
            "text/plain": [
              "False"
            ]
          },
          "metadata": {},
          "execution_count": 65
        }
      ]
    },
    {
      "cell_type": "code",
      "source": [
        "# OR logico\n",
        "True or False"
      ],
      "metadata": {
        "colab": {
          "base_uri": "https://localhost:8080/"
        },
        "id": "UYvBVdHbV19Y",
        "outputId": "a9150866-7a67-4284-b963-b2676cac4270"
      },
      "execution_count": 66,
      "outputs": [
        {
          "output_type": "execute_result",
          "data": {
            "text/plain": [
              "True"
            ]
          },
          "metadata": {},
          "execution_count": 66
        }
      ]
    },
    {
      "cell_type": "code",
      "source": [
        "# Negacion Logica (not)\n",
        "not False"
      ],
      "metadata": {
        "colab": {
          "base_uri": "https://localhost:8080/"
        },
        "id": "QasZNz_-V5tT",
        "outputId": "7f06adb6-aadb-4b0d-f8fe-76d0a4a78884"
      },
      "execution_count": 67,
      "outputs": [
        {
          "output_type": "execute_result",
          "data": {
            "text/plain": [
              "True"
            ]
          },
          "metadata": {},
          "execution_count": 67
        }
      ]
    },
    {
      "cell_type": "markdown",
      "source": [
        "## Operadores de Inspeccion de miembros\n",
        "\n"
      ],
      "metadata": {
        "id": "Rm2tThg6XPci"
      }
    },
    {
      "cell_type": "code",
      "source": [
        "# creacion de una lista o array unidimensional\n",
        "lista=[1,3,3.14,5,5,0]"
      ],
      "metadata": {
        "id": "h094SBArV9G5"
      },
      "execution_count": 68,
      "outputs": []
    },
    {
      "cell_type": "code",
      "source": [
        "#evaluar si \"a\" existe en la lista\n",
        "a=3\n",
        "print(a in lista)"
      ],
      "metadata": {
        "colab": {
          "base_uri": "https://localhost:8080/"
        },
        "id": "QAwpQ4MSXmOe",
        "outputId": "4ade391d-2de6-4b98-c6bb-13c27b7bef2d"
      },
      "execution_count": 69,
      "outputs": [
        {
          "output_type": "stream",
          "name": "stdout",
          "text": [
            "True\n"
          ]
        }
      ]
    },
    {
      "cell_type": "code",
      "source": [
        "#evaluar si \"b\" existe en la lista\n",
        "b=199\n",
        "print(b in lista)"
      ],
      "metadata": {
        "colab": {
          "base_uri": "https://localhost:8080/"
        },
        "id": "nIfQsNL-Xw3w",
        "outputId": "1082b2ba-5412-4214-ca54-5eca35893d01"
      },
      "execution_count": 70,
      "outputs": [
        {
          "output_type": "stream",
          "name": "stdout",
          "text": [
            "False\n"
          ]
        }
      ]
    },
    {
      "cell_type": "code",
      "source": [
        "#evaluar si \"c\" no está en la lista\n",
        "c=13\n",
        "print(c not in lista)"
      ],
      "metadata": {
        "colab": {
          "base_uri": "https://localhost:8080/"
        },
        "id": "vGsV8TBKX4U9",
        "outputId": "8d9b1b9b-8a20-4fbf-bde7-8c25b923d44f"
      },
      "execution_count": 73,
      "outputs": [
        {
          "output_type": "stream",
          "name": "stdout",
          "text": [
            "True\n"
          ]
        }
      ]
    },
    {
      "cell_type": "markdown",
      "source": [
        "## Operadores de Identidad"
      ],
      "metadata": {
        "id": "kN6N-49sYJy7"
      }
    },
    {
      "cell_type": "code",
      "source": [
        "#creacion de variables\n",
        "a=30\n",
        "bcd=30"
      ],
      "metadata": {
        "id": "BPnILEEnX8nn"
      },
      "execution_count": 76,
      "outputs": []
    },
    {
      "cell_type": "code",
      "source": [
        "#se evaluan si las variables apuntan hacia el mismo objeto\n",
        "id(a) is id (bcd)"
      ],
      "metadata": {
        "colab": {
          "base_uri": "https://localhost:8080/"
        },
        "id": "WHvOOjdrYflk",
        "outputId": "a3e184fb-332b-4bc3-b207-a566ef137ee8"
      },
      "execution_count": 77,
      "outputs": [
        {
          "output_type": "execute_result",
          "data": {
            "text/plain": [
              "False"
            ]
          },
          "metadata": {},
          "execution_count": 77
        }
      ]
    },
    {
      "cell_type": "code",
      "source": [
        ""
      ],
      "metadata": {
        "id": "JpSXWkFqYlgj"
      },
      "execution_count": null,
      "outputs": []
    }
  ]
}